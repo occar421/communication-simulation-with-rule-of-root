{
 "cells": [
  {
   "metadata": {},
   "cell_type": "markdown",
   "source": [
    "# Definitions\n",
    "\n",
    "* $ l \\in \\mathbf{N}^+ $: Number of levels.\n",
    "* $ L = \\{ x \\  | \\  x \\in \\mathbf{N}^+ \\land x \\leq l \\} $: Person levels. Smaller value is higher position. $1$ is the top.\n",
    "* $ p_x \\  (x \\in L) $. A person on $x$-level.\n",
    "* $ a_{x \\rightarrow P} \\in \\mathbf{N}^0 \\  (P \\subsetneq L, x \\in L \\setminus P)  $: An activity that $x$-level person tells info to each $P$-level person.\n",
    "  * Assuming $ a_{x \\rightarrow P} $ does not affect to $p_x$. Self understanding is wrong.\n",
    "* $ A_t = [a_{x_1 \\rightarrow P_1}, a_{x_2 \\rightarrow P_2}, \\ldots] \\  (t = |A_t|) $: All activities to get to the state. $ A_0 = [] $.\n",
    "* $ u_x^{A_t} \\  (x \\in L, 0 \\leq u_x^{A_t} \\leq 1) $: Understanding of $x$-level person after ${A_t}$ from initial state($u_x^{A_0}$).\n",
    "  * $ u_y^{A_{t + 1}} \\ (y \\in P, A_{t + 1} = A_t + [a_{x_t \\rightarrow P_t}]) = \\max(u_y^{A_t}, \\min(u_x^{A_t}, u_y^{A_t} + \\frac{u_x^{A_t}}{\\sqrt{\\sum_{y \\in P}|p_y|}})) $\n",
    "* $ L_{term} \\  (L_{term} \\neq \\emptyset \\land L_{term} \\subseteq L) $: When $ u_x^{A_t} = 1 \\  (x \\in L_{term}) $, it terminates.\n",
    "\n",
    "```mermaid\n",
    "graph TD\n",
    "    1[p_1, has u_1]\n",
    "    subgraph team1[ ]\n",
    "      11[p_2, has u_2] -- t_2->{3} -->\n",
    "        l11[p_3, has u_3] & l12[p_3, has u_3]\n",
    "      12[p_2, has u_2] -- t_2->{3} -->\n",
    "      121[p_3, has u_3] & 122[p_3, has u_3]\n",
    "    end\n",
    "    1 -- t_1->{2} --> 11 & 12\n",
    "    1 -- t_1->{2,3} --> team1\n",
    "\n",
    "```"
   ],
   "id": "496165fe8c166225"
  },
  {
   "metadata": {},
   "cell_type": "markdown",
   "source": "# Simulations",
   "id": "7e53170e97f139cb"
  },
  {
   "metadata": {},
   "cell_type": "markdown",
   "source": [
    "## Top-down message to all members\n",
    "\n",
    "It means,\n",
    "\n",
    "* $ | p_1 | = 1 $\n",
    "* For $ a_{x \\rightarrow Y} $, $ Y = \\{y \\  | \\  y \\gt x\\} $\n",
    "* $ u_1^{A_0} = 1 $ and $ u_x^{A_0} = 0 \\  (x \\in L \\setminus \\{1\\}) $\n",
    "* $ a_{x \\rightarrow P} $ cannot be defined."
   ],
   "id": "275d5ae01f5ddef8"
  },
  {
   "metadata": {
    "ExecuteTime": {
     "end_time": "2024-12-29T09:29:02.406145Z",
     "start_time": "2024-12-29T09:29:02.399849Z"
    }
   },
   "cell_type": "code",
   "source": [
    "from typing import Unpack, TypedDict\n",
    "\n",
    "from pygraphviz import AGraph\n",
    "\n",
    "type Action = [int, list[int]]\n",
    "\n",
    "\n",
    "class Search:\n",
    "  class Params(TypedDict):\n",
    "    p: list[float]\n",
    "    a: list[Action]\n",
    "    u0: list[float]\n",
    "    L_term: list[int]\n",
    "\n",
    "  def __init__(self, l: int, **kwargs: Unpack[Params]):\n",
    "    if l < 1:\n",
    "      raise ValueError(\"l must be positive\")\n",
    "\n",
    "    p = kwargs[\"p\"]\n",
    "    a = kwargs[\"a\"]\n",
    "    u0 = kwargs[\"u0\"]\n",
    "    L_term = kwargs[\"L_term\"]\n",
    "\n",
    "    if len(p) != l:\n",
    "      raise ValueError(\"p must have length l\")\n",
    "    if len(u0) != l:\n",
    "      raise ValueError(\"a must have length u0\")\n",
    "    if len(L_term) > l:\n",
    "      raise ValueError(\"L_term must have length less than or equal l\")\n",
    "\n",
    "    self.l = l\n",
    "    self.p = p\n",
    "    self.a = a\n",
    "    self.u0 = u0\n",
    "    self.L_term = L_term\n",
    "\n",
    "    initial_state = {\"u\": u0, \"t\": 0}\n",
    "    self.states = {0: initial_state}\n",
    "\n",
    "  def search(self) -> None:\n",
    "    if Search.__terminates(self.u0):\n",
    "      return\n",
    "\n",
    "  def draw(self) -> AGraph:\n",
    "    g = pgv.AGraph(directed=True)\n",
    "\n",
    "    for s in self.states.items():\n",
    "      g.add_node(str(s[0]), label=\"u=\" + str(s[1][\"u\"]), xlabel=\"t=\" + str(s[1][\"t\"]), style=\"filled\",\n",
    "                 shape=\"doublecircle\")\n",
    "\n",
    "    g.layout(\"dot\")\n",
    "    return g\n",
    "\n",
    "  @staticmethod\n",
    "  def __terminates(u: list[float]) -> bool:\n",
    "    return all([x >= 1 for x in u])"
   ],
   "id": "d4bea8921485b6ca",
   "outputs": [],
   "execution_count": 31
  },
  {
   "metadata": {},
   "cell_type": "markdown",
   "source": [
    "### $ l = 1 $\n",
    "* $ L = \\{1\\}$\n",
    "* $ L_{term} = \\{1\\}$"
   ],
   "id": "7ea77cfccab54d16"
  },
  {
   "metadata": {
    "ExecuteTime": {
     "end_time": "2024-12-29T09:29:24.489332Z",
     "start_time": "2024-12-29T09:29:23.675405Z"
    }
   },
   "cell_type": "code",
   "source": [
    "search = Search(1, p=[1], a=[], u0=[1], L_term=[1])\n",
    "search.search()\n",
    "\n",
    "search.draw()\n"
   ],
   "id": "initial_id",
   "outputs": [
    {
     "data": {
      "image/svg+xml": "<?xml version=\"1.0\" encoding=\"UTF-8\" standalone=\"no\"?>\r\n<!DOCTYPE svg PUBLIC \"-//W3C//DTD SVG 1.1//EN\"\r\n \"http://www.w3.org/Graphics/SVG/1.1/DTD/svg11.dtd\">\r\n<!-- Generated by graphviz version 12.2.1 (20241206.2353)\r\n -->\r\n<!-- Pages: 1 -->\r\n<svg width=\"103pt\" height=\"100pt\"\r\n viewBox=\"0.00 0.00 102.56 100.30\" xmlns=\"http://www.w3.org/2000/svg\" xmlns:xlink=\"http://www.w3.org/1999/xlink\">\r\n<g id=\"graph0\" class=\"graph\" transform=\"scale(1 1) rotate(0) translate(4 96.3)\">\r\n<polygon fill=\"white\" stroke=\"none\" points=\"-4,4 -4,-96.3 98.56,-96.3 98.56,4 -4,4\"/>\r\n<!-- 0 -->\r\n<g id=\"node1\" class=\"node\">\r\n<title>0</title>\r\n<ellipse fill=\"lightgrey\" stroke=\"black\" cx=\"54.65\" cy=\"-39.9\" rx=\"35.9\" ry=\"35.9\"/>\r\n<ellipse fill=\"none\" stroke=\"black\" cx=\"54.65\" cy=\"-39.9\" rx=\"39.9\" ry=\"39.9\"/>\r\n<text text-anchor=\"middle\" x=\"54.65\" y=\"-34.85\" font-family=\"Times New Roman,serif\" font-size=\"14.00\">u=[1]</text>\r\n<text text-anchor=\"middle\" x=\"9.38\" y=\"-79\" font-family=\"Times New Roman,serif\" font-size=\"14.00\">t=0</text>\r\n</g>\r\n</g>\r\n</svg>\r\n",
      "text/plain": [
       "<AGraph <Swig Object of type 'Agraph_t *' at 0x0000021C619365E0>>"
      ]
     },
     "execution_count": 33,
     "metadata": {},
     "output_type": "execute_result"
    }
   ],
   "execution_count": 33
  },
  {
   "metadata": {},
   "cell_type": "markdown",
   "source": [
    "### $ l = 2 \\land L_{term} = \\{1,2\\} $\n",
    "* $ L = \\{1,2\\} $\n",
    "* $ t $\n",
    "  * $ t_{1 \\rightarrow \\{1\\}} $ does not have effect.\n",
    "  * A: $ t_{1 \\rightarrow \\{1,2\\}} = \\frac{u_1}{\\sqrt{|p_1| + |p_2|}} $\n",
    "  * $ t_{1 \\rightarrow \\{2\\}} $ won't happen."
   ],
   "id": "bfc8149a04469b3c"
  },
  {
   "metadata": {
    "ExecuteTime": {
     "end_time": "2024-12-29T09:31:32.360598Z",
     "start_time": "2024-12-29T09:31:31.535648Z"
    }
   },
   "cell_type": "code",
   "source": [
    "import pygraphviz as pgv\n",
    "\n",
    "num_p_1 = 1\n",
    "num_p_2 = 10\n",
    "\n",
    "# TODO automate\n",
    "G = pgv.AGraph(directed=True)\n",
    "G.add_node(\"1\", label=\"(1,0) @(0,0)\", color=\"cyan\", root=True)\n",
    "G.add_node(\"2\", label=\"(1,.3) @(1,0)\")\n",
    "G.add_node(\"3\", label=\"(1,.6) @(2,0)\")\n",
    "G.add_node(\"4\", label=\"(1,.9) @(3,0)\")\n",
    "G.add_node(\"5\", label=\"(1,1) @(4,0)\", color=\"red\")\n",
    "G.add_edge(\"1\", \"2\", label=\"A\")\n",
    "G.add_edge(\"2\", \"3\", label=\"A\")\n",
    "G.add_edge(\"3\", \"4\", label=\"A\")\n",
    "G.add_edge(\"4\", \"5\", label=\"A\")\n",
    "\n",
    "G.layout(\"dot\")\n",
    "G"
   ],
   "id": "146ee6ccfd805bcd",
   "outputs": [
    {
     "data": {
      "image/svg+xml": "<?xml version=\"1.0\" encoding=\"UTF-8\" standalone=\"no\"?>\r\n<!DOCTYPE svg PUBLIC \"-//W3C//DTD SVG 1.1//EN\"\r\n \"http://www.w3.org/Graphics/SVG/1.1/DTD/svg11.dtd\">\r\n<!-- Generated by graphviz version 12.2.1 (20241206.2353)\r\n -->\r\n<!-- Pages: 1 -->\r\n<svg width=\"129pt\" height=\"398pt\"\r\n viewBox=\"0.00 0.00 129.13 398.00\" xmlns=\"http://www.w3.org/2000/svg\" xmlns:xlink=\"http://www.w3.org/1999/xlink\">\r\n<g id=\"graph0\" class=\"graph\" transform=\"scale(1 1) rotate(0) translate(4 394)\">\r\n<polygon fill=\"white\" stroke=\"none\" points=\"-4,4 -4,-394 125.13,-394 125.13,4 -4,4\"/>\r\n<!-- 1 -->\r\n<g id=\"node1\" class=\"node\">\r\n<title>1</title>\r\n<ellipse fill=\"none\" stroke=\"cyan\" cx=\"60.56\" cy=\"-372\" rx=\"58\" ry=\"18\"/>\r\n<text text-anchor=\"middle\" x=\"60.56\" y=\"-366.95\" font-family=\"Times New Roman,serif\" font-size=\"14.00\">(1,0) @(0,0)</text>\r\n</g>\r\n<!-- 2 -->\r\n<g id=\"node2\" class=\"node\">\r\n<title>2</title>\r\n<ellipse fill=\"none\" stroke=\"black\" cx=\"60.56\" cy=\"-283.5\" rx=\"60.56\" ry=\"18\"/>\r\n<text text-anchor=\"middle\" x=\"60.56\" y=\"-278.45\" font-family=\"Times New Roman,serif\" font-size=\"14.00\">(1,.3) @(1,0)</text>\r\n</g>\r\n<!-- 1&#45;&gt;2 -->\r\n<g id=\"edge1\" class=\"edge\">\r\n<title>1&#45;&gt;2</title>\r\n<path fill=\"none\" stroke=\"black\" d=\"M60.56,-353.91C60.56,-342.26 60.56,-326.55 60.56,-313.02\"/>\r\n<polygon fill=\"black\" stroke=\"black\" points=\"64.06,-313.36 60.56,-303.36 57.06,-313.36 64.06,-313.36\"/>\r\n<text text-anchor=\"middle\" x=\"65.44\" y=\"-322.7\" font-family=\"Times New Roman,serif\" font-size=\"14.00\">A</text>\r\n</g>\r\n<!-- 3 -->\r\n<g id=\"node3\" class=\"node\">\r\n<title>3</title>\r\n<ellipse fill=\"none\" stroke=\"black\" cx=\"60.56\" cy=\"-195\" rx=\"60.56\" ry=\"18\"/>\r\n<text text-anchor=\"middle\" x=\"60.56\" y=\"-189.95\" font-family=\"Times New Roman,serif\" font-size=\"14.00\">(1,.6) @(2,0)</text>\r\n</g>\r\n<!-- 2&#45;&gt;3 -->\r\n<g id=\"edge2\" class=\"edge\">\r\n<title>2&#45;&gt;3</title>\r\n<path fill=\"none\" stroke=\"black\" d=\"M60.56,-265.41C60.56,-253.76 60.56,-238.05 60.56,-224.52\"/>\r\n<polygon fill=\"black\" stroke=\"black\" points=\"64.06,-224.86 60.56,-214.86 57.06,-224.86 64.06,-224.86\"/>\r\n<text text-anchor=\"middle\" x=\"65.44\" y=\"-234.2\" font-family=\"Times New Roman,serif\" font-size=\"14.00\">A</text>\r\n</g>\r\n<!-- 4 -->\r\n<g id=\"node4\" class=\"node\">\r\n<title>4</title>\r\n<ellipse fill=\"none\" stroke=\"black\" cx=\"60.56\" cy=\"-106.5\" rx=\"60.56\" ry=\"18\"/>\r\n<text text-anchor=\"middle\" x=\"60.56\" y=\"-101.45\" font-family=\"Times New Roman,serif\" font-size=\"14.00\">(1,.9) @(3,0)</text>\r\n</g>\r\n<!-- 3&#45;&gt;4 -->\r\n<g id=\"edge3\" class=\"edge\">\r\n<title>3&#45;&gt;4</title>\r\n<path fill=\"none\" stroke=\"black\" d=\"M60.56,-176.91C60.56,-165.26 60.56,-149.55 60.56,-136.02\"/>\r\n<polygon fill=\"black\" stroke=\"black\" points=\"64.06,-136.36 60.56,-126.36 57.06,-136.36 64.06,-136.36\"/>\r\n<text text-anchor=\"middle\" x=\"65.44\" y=\"-145.7\" font-family=\"Times New Roman,serif\" font-size=\"14.00\">A</text>\r\n</g>\r\n<!-- 5 -->\r\n<g id=\"node5\" class=\"node\">\r\n<title>5</title>\r\n<ellipse fill=\"none\" stroke=\"red\" cx=\"60.56\" cy=\"-18\" rx=\"58\" ry=\"18\"/>\r\n<text text-anchor=\"middle\" x=\"60.56\" y=\"-12.95\" font-family=\"Times New Roman,serif\" font-size=\"14.00\">(1,1) @(4,0)</text>\r\n</g>\r\n<!-- 4&#45;&gt;5 -->\r\n<g id=\"edge4\" class=\"edge\">\r\n<title>4&#45;&gt;5</title>\r\n<path fill=\"none\" stroke=\"black\" d=\"M60.56,-88.41C60.56,-76.76 60.56,-61.05 60.56,-47.52\"/>\r\n<polygon fill=\"black\" stroke=\"black\" points=\"64.06,-47.86 60.56,-37.86 57.06,-47.86 64.06,-47.86\"/>\r\n<text text-anchor=\"middle\" x=\"65.44\" y=\"-57.2\" font-family=\"Times New Roman,serif\" font-size=\"14.00\">A</text>\r\n</g>\r\n</g>\r\n</svg>\r\n",
      "text/plain": [
       "<AGraph <Swig Object of type 'Agraph_t *' at 0x0000021C61936400>>"
      ]
     },
     "execution_count": 35,
     "metadata": {},
     "output_type": "execute_result"
    }
   ],
   "execution_count": 35
  },
  {
   "metadata": {},
   "cell_type": "markdown",
   "source": [
    "### $ l = 3 \\land L_{term} = \\{1,2\\} $\n",
    "* $ L = \\{1,2,3\\} $\n",
    "* $ t $\n",
    "  * A: $ t_{1 \\rightarrow \\{2\\}} = \\frac{u_1}{\\sqrt{|p_2|}} $\n",
    "  * B: $ t_{1 \\rightarrow \\{2,3\\}} = \\frac{u_1}{\\sqrt{|p_2|+|p_3|}} $"
   ],
   "id": "38f4c2eb433e6f6c"
  },
  {
   "metadata": {
    "ExecuteTime": {
     "end_time": "2024-12-28T16:15:49.989436Z",
     "start_time": "2024-12-28T16:15:49.182250Z"
    }
   },
   "cell_type": "code",
   "source": [
    "import pygraphviz as pgv\n",
    "\n",
    "num_p_1 = 10\n",
    "num_p_2 = 10\n",
    "num_p_3 = 10 * 10\n",
    "\n",
    "G = pgv.AGraph(directed=True)\n",
    "G.add_node(\"1\", label=\"(1,0) @(0,0)\", color=\"cyan\", root=True)\n",
    "G.add_node(\"2\", label=\"(1,.3) @(1,0)\")\n",
    "G.add_node(\"3\", label=\"(1,.6) @(2,0)\")\n",
    "G.add_node(\"4\", label=\"(1,.9) @(3,0)\")\n",
    "G.add_node(\"5\", label=\"(1,1) @(4,0)\", color=\"red\")\n",
    "G.add_node(\"6\", label=\"(1,.0) @(1,0)\")\n",
    "G.add_node(\"7\", label=\"(1,.4) @(2,0)\")\n",
    "G.add_node(\"8\", label=\"(1,.1) @(2,0)\")\n",
    "G.add_edge(\"1\", \"2\", label=\"A\")\n",
    "G.add_edge(\"2\", \"3\", label=\"A\")\n",
    "G.add_edge(\"3\", \"4\", label=\"A\")\n",
    "G.add_edge(\"4\", \"5\", label=\"A\")\n",
    "G.add_edge(\"1\", \"6\", label=\"B\")\n",
    "G.add_edge(\"6\", \"7\", label=\"A\")\n",
    "G.add_edge(\"6\", \"8\", label=\"B\")\n",
    "# TODO\n",
    "\n",
    "G.layout(\"dot\")\n",
    "G"
   ],
   "id": "43870dbb74803298",
   "outputs": [
    {
     "data": {
      "image/svg+xml": "<?xml version=\"1.0\" encoding=\"UTF-8\" standalone=\"no\"?>\r\n<!DOCTYPE svg PUBLIC \"-//W3C//DTD SVG 1.1//EN\"\r\n \"http://www.w3.org/Graphics/SVG/1.1/DTD/svg11.dtd\">\r\n<!-- Generated by graphviz version 12.2.1 (20241206.2353)\r\n -->\r\n<!-- Pages: 1 -->\r\n<svg width=\"407pt\" height=\"398pt\"\r\n viewBox=\"0.00 0.00 407.12 398.00\" xmlns=\"http://www.w3.org/2000/svg\" xmlns:xlink=\"http://www.w3.org/1999/xlink\">\r\n<g id=\"graph0\" class=\"graph\" transform=\"scale(1 1) rotate(0) translate(4 394)\">\r\n<polygon fill=\"white\" stroke=\"none\" points=\"-4,4 -4,-394 403.12,-394 403.12,4 -4,4\"/>\r\n<!-- 1 -->\r\n<g id=\"node1\" class=\"node\">\r\n<title>1</title>\r\n<ellipse fill=\"none\" stroke=\"cyan\" cx=\"129.56\" cy=\"-372\" rx=\"58\" ry=\"18\"/>\r\n<text text-anchor=\"middle\" x=\"129.56\" y=\"-366.95\" font-family=\"Times New Roman,serif\" font-size=\"14.00\">(1,0) @(0,0)</text>\r\n</g>\r\n<!-- 2 -->\r\n<g id=\"node2\" class=\"node\">\r\n<title>2</title>\r\n<ellipse fill=\"none\" stroke=\"black\" cx=\"60.56\" cy=\"-283.5\" rx=\"60.56\" ry=\"18\"/>\r\n<text text-anchor=\"middle\" x=\"60.56\" y=\"-278.45\" font-family=\"Times New Roman,serif\" font-size=\"14.00\">(1,.3) @(1,0)</text>\r\n</g>\r\n<!-- 1&#45;&gt;2 -->\r\n<g id=\"edge1\" class=\"edge\">\r\n<title>1&#45;&gt;2</title>\r\n<path fill=\"none\" stroke=\"black\" d=\"M116.26,-354.32C106.3,-341.84 92.5,-324.53 81.12,-310.27\"/>\r\n<polygon fill=\"black\" stroke=\"black\" points=\"83.98,-308.24 75.01,-302.6 78.51,-312.6 83.98,-308.24\"/>\r\n<text text-anchor=\"middle\" x=\"106.12\" y=\"-322.7\" font-family=\"Times New Roman,serif\" font-size=\"14.00\">A</text>\r\n</g>\r\n<!-- 6 -->\r\n<g id=\"node3\" class=\"node\">\r\n<title>6</title>\r\n<ellipse fill=\"none\" stroke=\"black\" cx=\"199.56\" cy=\"-283.5\" rx=\"60.56\" ry=\"18\"/>\r\n<text text-anchor=\"middle\" x=\"199.56\" y=\"-278.45\" font-family=\"Times New Roman,serif\" font-size=\"14.00\">(1,.0) @(1,0)</text>\r\n</g>\r\n<!-- 1&#45;&gt;6 -->\r\n<g id=\"edge2\" class=\"edge\">\r\n<title>1&#45;&gt;6</title>\r\n<path fill=\"none\" stroke=\"black\" d=\"M143.06,-354.32C153.16,-341.84 167.17,-324.53 178.71,-310.27\"/>\r\n<polygon fill=\"black\" stroke=\"black\" points=\"181.35,-312.57 184.92,-302.6 175.91,-308.17 181.35,-312.57\"/>\r\n<text text-anchor=\"middle\" x=\"175.33\" y=\"-322.7\" font-family=\"Times New Roman,serif\" font-size=\"14.00\">B</text>\r\n</g>\r\n<!-- 3 -->\r\n<g id=\"node4\" class=\"node\">\r\n<title>3</title>\r\n<ellipse fill=\"none\" stroke=\"black\" cx=\"60.56\" cy=\"-195\" rx=\"60.56\" ry=\"18\"/>\r\n<text text-anchor=\"middle\" x=\"60.56\" y=\"-189.95\" font-family=\"Times New Roman,serif\" font-size=\"14.00\">(1,.6) @(2,0)</text>\r\n</g>\r\n<!-- 2&#45;&gt;3 -->\r\n<g id=\"edge3\" class=\"edge\">\r\n<title>2&#45;&gt;3</title>\r\n<path fill=\"none\" stroke=\"black\" d=\"M60.56,-265.41C60.56,-253.76 60.56,-238.05 60.56,-224.52\"/>\r\n<polygon fill=\"black\" stroke=\"black\" points=\"64.06,-224.86 60.56,-214.86 57.06,-224.86 64.06,-224.86\"/>\r\n<text text-anchor=\"middle\" x=\"65.44\" y=\"-234.2\" font-family=\"Times New Roman,serif\" font-size=\"14.00\">A</text>\r\n</g>\r\n<!-- 7 -->\r\n<g id=\"node5\" class=\"node\">\r\n<title>7</title>\r\n<ellipse fill=\"none\" stroke=\"black\" cx=\"199.56\" cy=\"-195\" rx=\"60.56\" ry=\"18\"/>\r\n<text text-anchor=\"middle\" x=\"199.56\" y=\"-189.95\" font-family=\"Times New Roman,serif\" font-size=\"14.00\">(1,.4) @(2,0)</text>\r\n</g>\r\n<!-- 6&#45;&gt;7 -->\r\n<g id=\"edge4\" class=\"edge\">\r\n<title>6&#45;&gt;7</title>\r\n<path fill=\"none\" stroke=\"black\" d=\"M199.56,-265.41C199.56,-253.76 199.56,-238.05 199.56,-224.52\"/>\r\n<polygon fill=\"black\" stroke=\"black\" points=\"203.06,-224.86 199.56,-214.86 196.06,-224.86 203.06,-224.86\"/>\r\n<text text-anchor=\"middle\" x=\"204.44\" y=\"-234.2\" font-family=\"Times New Roman,serif\" font-size=\"14.00\">A</text>\r\n</g>\r\n<!-- 8 -->\r\n<g id=\"node6\" class=\"node\">\r\n<title>8</title>\r\n<ellipse fill=\"none\" stroke=\"black\" cx=\"338.56\" cy=\"-195\" rx=\"60.56\" ry=\"18\"/>\r\n<text text-anchor=\"middle\" x=\"338.56\" y=\"-189.95\" font-family=\"Times New Roman,serif\" font-size=\"14.00\">(1,.1) @(2,0)</text>\r\n</g>\r\n<!-- 6&#45;&gt;8 -->\r\n<g id=\"edge5\" class=\"edge\">\r\n<title>6&#45;&gt;8</title>\r\n<path fill=\"none\" stroke=\"black\" d=\"M224.74,-266.84C246.88,-253.06 279.32,-232.87 303.91,-217.57\"/>\r\n<polygon fill=\"black\" stroke=\"black\" points=\"305.66,-220.61 312.3,-212.35 301.96,-214.66 305.66,-220.61\"/>\r\n<text text-anchor=\"middle\" x=\"286.01\" y=\"-234.2\" font-family=\"Times New Roman,serif\" font-size=\"14.00\">B</text>\r\n</g>\r\n<!-- 4 -->\r\n<g id=\"node7\" class=\"node\">\r\n<title>4</title>\r\n<ellipse fill=\"none\" stroke=\"black\" cx=\"60.56\" cy=\"-106.5\" rx=\"60.56\" ry=\"18\"/>\r\n<text text-anchor=\"middle\" x=\"60.56\" y=\"-101.45\" font-family=\"Times New Roman,serif\" font-size=\"14.00\">(1,.9) @(3,0)</text>\r\n</g>\r\n<!-- 3&#45;&gt;4 -->\r\n<g id=\"edge6\" class=\"edge\">\r\n<title>3&#45;&gt;4</title>\r\n<path fill=\"none\" stroke=\"black\" d=\"M60.56,-176.91C60.56,-165.26 60.56,-149.55 60.56,-136.02\"/>\r\n<polygon fill=\"black\" stroke=\"black\" points=\"64.06,-136.36 60.56,-126.36 57.06,-136.36 64.06,-136.36\"/>\r\n<text text-anchor=\"middle\" x=\"65.44\" y=\"-145.7\" font-family=\"Times New Roman,serif\" font-size=\"14.00\">A</text>\r\n</g>\r\n<!-- 5 -->\r\n<g id=\"node8\" class=\"node\">\r\n<title>5</title>\r\n<ellipse fill=\"none\" stroke=\"red\" cx=\"60.56\" cy=\"-18\" rx=\"58\" ry=\"18\"/>\r\n<text text-anchor=\"middle\" x=\"60.56\" y=\"-12.95\" font-family=\"Times New Roman,serif\" font-size=\"14.00\">(1,1) @(4,0)</text>\r\n</g>\r\n<!-- 4&#45;&gt;5 -->\r\n<g id=\"edge7\" class=\"edge\">\r\n<title>4&#45;&gt;5</title>\r\n<path fill=\"none\" stroke=\"black\" d=\"M60.56,-88.41C60.56,-76.76 60.56,-61.05 60.56,-47.52\"/>\r\n<polygon fill=\"black\" stroke=\"black\" points=\"64.06,-47.86 60.56,-37.86 57.06,-47.86 64.06,-47.86\"/>\r\n<text text-anchor=\"middle\" x=\"65.44\" y=\"-57.2\" font-family=\"Times New Roman,serif\" font-size=\"14.00\">A</text>\r\n</g>\r\n</g>\r\n</svg>\r\n",
      "text/plain": [
       "<AGraph <Swig Object of type 'Agraph_t *' at 0x0000021C618F5410>>"
      ]
     },
     "execution_count": 4,
     "metadata": {},
     "output_type": "execute_result"
    }
   ],
   "execution_count": 4
  }
 ],
 "metadata": {
  "kernelspec": {
   "display_name": "Python 3 (ipykernel)",
   "language": "python",
   "name": "python3"
  },
  "language_info": {
   "codemirror_mode": {
    "name": "ipython",
    "version": 3
   },
   "file_extension": ".py",
   "mimetype": "text/x-python",
   "name": "python",
   "nbconvert_exporter": "python",
   "pygments_lexer": "ipython3",
   "version": "3.12.8"
  }
 },
 "nbformat": 4,
 "nbformat_minor": 5
}
